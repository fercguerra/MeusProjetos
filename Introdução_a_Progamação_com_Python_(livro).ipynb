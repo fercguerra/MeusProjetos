{
  "nbformat": 4,
  "nbformat_minor": 0,
  "metadata": {
    "colab": {
      "name": "Introdução a Progamação com  Python (livro)",
      "provenance": [],
      "authorship_tag": "ABX9TyP8lNX3xxyPLf5zSUvmDt6L",
      "include_colab_link": true
    },
    "kernelspec": {
      "name": "python3",
      "display_name": "Python 3"
    },
    "language_info": {
      "name": "python"
    }
  },
  "cells": [
    {
      "cell_type": "markdown",
      "metadata": {
        "id": "view-in-github",
        "colab_type": "text"
      },
      "source": [
        "<a href=\"https://colab.research.google.com/github/fercguerra/MeusProjetos/blob/main/Introdu%C3%A7%C3%A3o_a_Progama%C3%A7%C3%A3o_com_Python_(livro).ipynb\" target=\"_parent\"><img src=\"https://colab.research.google.com/assets/colab-badge.svg\" alt=\"Open In Colab\"/></a>"
      ]
    },
    {
      "cell_type": "code",
      "metadata": {
        "colab": {
          "base_uri": "https://localhost:8080/"
        },
        "id": "PBjNqAoOp051",
        "outputId": "8c59ca5d-9822-458b-c5bc-f41257583d84"
      },
      "source": [
        "#print: o que vai ser exibido na tela\n",
        "#aspas: separa textos destinados ao usuário do computador do resto do programa (início e fim da mensagem)\n",
        "#parênteses: separar a msg que irá imprimir\n",
        "\n",
        "print(\"Oi\")\n"
      ],
      "execution_count": 2,
      "outputs": [
        {
          "output_type": "stream",
          "name": "stdout",
          "text": [
            "Oi\n"
          ]
        }
      ]
    },
    {
      "cell_type": "code",
      "metadata": {
        "colab": {
          "base_uri": "https://localhost:8080/"
        },
        "id": "ifACMy6aqt9g",
        "outputId": "9344a3c8-4e7d-4381-8e19-4f030c8dba20"
      },
      "source": [
        "#pode ser utilizado como calculadora\n",
        "2+3\n"
      ],
      "execution_count": 3,
      "outputs": [
        {
          "output_type": "execute_result",
          "data": {
            "text/plain": [
              "5"
            ]
          },
          "metadata": {},
          "execution_count": 3
        }
      ]
    },
    {
      "cell_type": "code",
      "metadata": {
        "colab": {
          "base_uri": "https://localhost:8080/"
        },
        "id": "0i5g_AGZq1qA",
        "outputId": "993bda70-c0a3-439f-8dce-9304c8827d2e"
      },
      "source": [
        "5-3"
      ],
      "execution_count": 4,
      "outputs": [
        {
          "output_type": "execute_result",
          "data": {
            "text/plain": [
              "2"
            ]
          },
          "metadata": {},
          "execution_count": 4
        }
      ]
    },
    {
      "cell_type": "code",
      "metadata": {
        "colab": {
          "base_uri": "https://localhost:8080/"
        },
        "id": "4Kln4NSRq4ef",
        "outputId": "f9443bad-4681-4c18-e2ad-767164933327"
      },
      "source": [
        "10-4+2\n"
      ],
      "execution_count": 5,
      "outputs": [
        {
          "output_type": "execute_result",
          "data": {
            "text/plain": [
              "8"
            ]
          },
          "metadata": {},
          "execution_count": 5
        }
      ]
    },
    {
      "cell_type": "code",
      "metadata": {
        "colab": {
          "base_uri": "https://localhost:8080/"
        },
        "id": "I8J3BXksq9Ad",
        "outputId": "f21f45d9-09a2-460c-f3a9-bc3217e2fce4"
      },
      "source": [
        "2*10\n"
      ],
      "execution_count": 6,
      "outputs": [
        {
          "output_type": "execute_result",
          "data": {
            "text/plain": [
              "20"
            ]
          },
          "metadata": {},
          "execution_count": 6
        }
      ]
    }
  ]
}