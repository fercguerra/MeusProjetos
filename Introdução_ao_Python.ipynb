{
  "nbformat": 4,
  "nbformat_minor": 0,
  "metadata": {
    "colab": {
      "name": "Introdução ao Python",
      "provenance": [],
      "authorship_tag": "ABX9TyNhd+ZRebylJNkikXZgNVna",
      "include_colab_link": true
    },
    "kernelspec": {
      "name": "python3",
      "display_name": "Python 3"
    },
    "language_info": {
      "name": "python"
    }
  },
  "cells": [
    {
      "cell_type": "markdown",
      "metadata": {
        "id": "view-in-github",
        "colab_type": "text"
      },
      "source": [
        "<a href=\"https://colab.research.google.com/github/fercguerra/MeusProjetos/blob/main/Introdu%C3%A7%C3%A3o_ao_Python.ipynb\" target=\"_parent\"><img src=\"https://colab.research.google.com/assets/colab-badge.svg\" alt=\"Open In Colab\"/></a>"
      ]
    },
    {
      "cell_type": "code",
      "metadata": {
        "colab": {
          "base_uri": "https://localhost:8080/"
        },
        "id": "Z-9bxmYbcXkD",
        "outputId": "29771ffb-a94e-42f1-96b6-63bfcc45ad11"
      },
      "source": [
        "print(\"Olá Mundo\")"
      ],
      "execution_count": 1,
      "outputs": [
        {
          "output_type": "stream",
          "text": [
            "Olá Mundo\n"
          ],
          "name": "stdout"
        }
      ]
    },
    {
      "cell_type": "code",
      "metadata": {
        "colab": {
          "base_uri": "https://localhost:8080/"
        },
        "id": "uMtJxwaoeoRR",
        "outputId": "65c4da10-df2f-46ad-bd4c-ce76d9b8e580"
      },
      "source": [
        "Nome = input(\"Digite seu nome: \")\n",
        "print(\"Olá\" + Nome)"
      ],
      "execution_count": 6,
      "outputs": [
        {
          "output_type": "stream",
          "text": [
            "Digite seu nome: Fernanda\n",
            "OláFernanda\n"
          ],
          "name": "stdout"
        }
      ]
    },
    {
      "cell_type": "code",
      "metadata": {
        "colab": {
          "base_uri": "https://localhost:8080/"
        },
        "id": "GLvSFFJ2kwYy",
        "outputId": "fd619f9c-debd-48b0-cab9-10479a9dce10"
      },
      "source": [
        "#soma de 2 números\n",
        "#Entrada de dados:\n",
        "print(\"Digite o primeiro valor: \")\n",
        "val1 = input()\n",
        "print(\"Digite o segundo valor: \")\n",
        "val2 = input()\n",
        "\n",
        "#Mudando string para variável\n",
        "v1 = int(val1)\n",
        "v2 = int(val2)\n",
        "\n",
        "#realiza soma\n",
        "soma = v1 + v2\n",
        "\n",
        "#exibindo resultado\n",
        "print(\"A soma é: \", soma)\n",
        "\n"
      ],
      "execution_count": 5,
      "outputs": [
        {
          "output_type": "stream",
          "text": [
            "Digite o primeiro valor: \n",
            "6\n",
            "Digite o segundo valor: \n",
            "9\n",
            "A soma é:  15\n"
          ],
          "name": "stdout"
        }
      ]
    },
    {
      "cell_type": "code",
      "metadata": {
        "colab": {
          "base_uri": "https://localhost:8080/"
        },
        "id": "Ol5Hf4ADoQDu",
        "outputId": "e6d88fe2-4a95-4a87-d1fc-a40ae2fc86ba"
      },
      "source": [
        "#Soma de 2 números o jeito certo\n",
        "#entrada de dados:\n",
        "VAL1 = int(input(\"Digite o primeiro número: \"))\n",
        "VAL2 = int(input(\"Digite o segundo número: \"))\n",
        "\n",
        "#Realiza a soma:\n",
        "SOMA = VAL1 + VAL2\n",
        "\n",
        "#Exibindo resultado:\n",
        "print(\"A soma é: \", SOMA)"
      ],
      "execution_count": 6,
      "outputs": [
        {
          "output_type": "stream",
          "text": [
            "Digite o primeiro número: 6\n",
            "Digite o segundo número: 6\n",
            "A soma é:  12\n"
          ],
          "name": "stdout"
        }
      ]
    },
    {
      "cell_type": "code",
      "metadata": {
        "colab": {
          "base_uri": "https://localhost:8080/"
        },
        "id": "MKcOOFW4pYsW",
        "outputId": "e1850f39-d128-4e7b-f386-72f263df4c9a"
      },
      "source": [
        "#Faça um algoritmo que leia a idade de uma pessoa expressa em\n",
        "#anos, meses e dias e escreva a idade dessa pessoa expressa\n",
        "#apenas em dias. Considerar ano com 365 dias e mês com 30 dias.\n",
        "\n",
        "ANOS = int(input(\"Digite os anos: \"))\n",
        "MESES = int(input(\"Digite os meses: \"))\n",
        "DIAS = int(input(\"Digite os dias: \"))\n",
        "\n",
        "TOTAL = DIAS + (MESES*30) + (ANOS*365)\n",
        "\n",
        "print(\"Idade em dias: \", TOTAL)"
      ],
      "execution_count": 7,
      "outputs": [
        {
          "output_type": "stream",
          "text": [
            "Digite os anos: 34\n",
            "Digite os meses: 11\n",
            "Digite os dias: 111\n",
            "Idade em dias:  12851\n"
          ],
          "name": "stdout"
        }
      ]
    }
  ]
}