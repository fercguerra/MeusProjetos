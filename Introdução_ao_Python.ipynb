{
  "nbformat": 4,
  "nbformat_minor": 0,
  "metadata": {
    "colab": {
      "name": "Introdução ao Python",
      "provenance": [],
      "authorship_tag": "ABX9TyPpDSlWt8PFHQdAEajrLW00",
      "include_colab_link": true
    },
    "kernelspec": {
      "name": "python3",
      "display_name": "Python 3"
    },
    "language_info": {
      "name": "python"
    }
  },
  "cells": [
    {
      "cell_type": "markdown",
      "metadata": {
        "id": "view-in-github",
        "colab_type": "text"
      },
      "source": [
        "<a href=\"https://colab.research.google.com/github/fercguerra/MeusProjetos/blob/main/Introdu%C3%A7%C3%A3o_ao_Python.ipynb\" target=\"_parent\"><img src=\"https://colab.research.google.com/assets/colab-badge.svg\" alt=\"Open In Colab\"/></a>"
      ]
    },
    {
      "cell_type": "code",
      "metadata": {
        "colab": {
          "base_uri": "https://localhost:8080/"
        },
        "id": "Z-9bxmYbcXkD",
        "outputId": "29771ffb-a94e-42f1-96b6-63bfcc45ad11"
      },
      "source": [
        "print(\"Olá Mundo\")"
      ],
      "execution_count": 1,
      "outputs": [
        {
          "output_type": "stream",
          "text": [
            "Olá Mundo\n"
          ],
          "name": "stdout"
        }
      ]
    },
    {
      "cell_type": "code",
      "metadata": {
        "colab": {
          "base_uri": "https://localhost:8080/"
        },
        "id": "uMtJxwaoeoRR",
        "outputId": "65c4da10-df2f-46ad-bd4c-ce76d9b8e580"
      },
      "source": [
        "Nome = input(\"Digite seu nome: \")\n",
        "print(\"Olá\" + Nome)"
      ],
      "execution_count": 6,
      "outputs": [
        {
          "output_type": "stream",
          "text": [
            "Digite seu nome: Fernanda\n",
            "OláFernanda\n"
          ],
          "name": "stdout"
        }
      ]
    },
    {
      "cell_type": "code",
      "metadata": {
        "colab": {
          "base_uri": "https://localhost:8080/"
        },
        "id": "GLvSFFJ2kwYy",
        "outputId": "fd619f9c-debd-48b0-cab9-10479a9dce10"
      },
      "source": [
        "#soma de 2 números\n",
        "#Entrada de dados:\n",
        "print(\"Digite o primeiro valor: \")\n",
        "val1 = input()\n",
        "print(\"Digite o segundo valor: \")\n",
        "val2 = input()\n",
        "\n",
        "#Mudando string para variável\n",
        "v1 = int(val1)\n",
        "v2 = int(val2)\n",
        "\n",
        "#realiza soma\n",
        "soma = v1 + v2\n",
        "\n",
        "#exibindo resultado\n",
        "print(\"A soma é: \", soma)\n",
        "\n"
      ],
      "execution_count": 5,
      "outputs": [
        {
          "output_type": "stream",
          "text": [
            "Digite o primeiro valor: \n",
            "6\n",
            "Digite o segundo valor: \n",
            "9\n",
            "A soma é:  15\n"
          ],
          "name": "stdout"
        }
      ]
    },
    {
      "cell_type": "code",
      "metadata": {
        "colab": {
          "base_uri": "https://localhost:8080/"
        },
        "id": "Ol5Hf4ADoQDu",
        "outputId": "e6d88fe2-4a95-4a87-d1fc-a40ae2fc86ba"
      },
      "source": [
        "#Soma de 2 números o jeito certo\n",
        "#entrada de dados:\n",
        "VAL1 = int(input(\"Digite o primeiro número: \"))\n",
        "VAL2 = int(input(\"Digite o segundo número: \"))\n",
        "\n",
        "#Realiza a soma:\n",
        "SOMA = VAL1 + VAL2\n",
        "\n",
        "#Exibindo resultado:\n",
        "print(\"A soma é: \", SOMA)"
      ],
      "execution_count": 6,
      "outputs": [
        {
          "output_type": "stream",
          "text": [
            "Digite o primeiro número: 6\n",
            "Digite o segundo número: 6\n",
            "A soma é:  12\n"
          ],
          "name": "stdout"
        }
      ]
    },
    {
      "cell_type": "code",
      "metadata": {
        "colab": {
          "base_uri": "https://localhost:8080/"
        },
        "id": "MKcOOFW4pYsW",
        "outputId": "e1850f39-d128-4e7b-f386-72f263df4c9a"
      },
      "source": [
        "#Faça um algoritmo que leia a idade de uma pessoa expressa em\n",
        "#anos, meses e dias e escreva a idade dessa pessoa expressa\n",
        "#apenas em dias. Considerar ano com 365 dias e mês com 30 dias.\n",
        "\n",
        "ANOS = int(input(\"Digite os anos: \"))\n",
        "MESES = int(input(\"Digite os meses: \"))\n",
        "DIAS = int(input(\"Digite os dias: \"))\n",
        "\n",
        "TOTAL = DIAS + (MESES*30) + (ANOS*365)\n",
        "\n",
        "print(\"Idade em dias: \", TOTAL)"
      ],
      "execution_count": 7,
      "outputs": [
        {
          "output_type": "stream",
          "text": [
            "Digite os anos: 34\n",
            "Digite os meses: 11\n",
            "Digite os dias: 111\n",
            "Idade em dias:  12851\n"
          ],
          "name": "stdout"
        }
      ]
    },
    {
      "cell_type": "code",
      "metadata": {
        "colab": {
          "base_uri": "https://localhost:8080/"
        },
        "id": "-va3OOfPs3WA",
        "outputId": "559063a4-1131-477a-f2fb-a72ba7f7967c"
      },
      "source": [
        "#5. Faça um algoritmo que calcule a área de um triângulo, considerando a\n",
        "#fórmula (base*altura)/2 . Utilize as variáveis AREA, BASE e ALTURA.\n",
        "\n",
        "BASE = int(input(\"Digite o valor da base: \"))\n",
        "ALTURA = int(input(\"Digite o valor da altura: \"))\n",
        "\n",
        "AREA = BASE*ALTURA/2\n",
        "\n",
        "print(\"A área do triângulo é: \", AREA)"
      ],
      "execution_count": 10,
      "outputs": [
        {
          "output_type": "stream",
          "text": [
            "Digite o valor da base: 2\n",
            "Digite o valor da altura: 2\n",
            "A área do triângulo é:  2.0\n"
          ],
          "name": "stdout"
        }
      ]
    },
    {
      "cell_type": "code",
      "metadata": {
        "colab": {
          "base_uri": "https://localhost:8080/"
        },
        "id": "2Av0qWZkvL2a",
        "outputId": "1abd97e4-f904-4983-f166-a96009753b04"
      },
      "source": [
        "#8. Escreva um algoritmo para ler uma temperatura em graus Fahrenheit,\n",
        "#calcular e escrever o valor correspondente em graus Celsius (baseado na\n",
        "#fórmula abaixo):\n",
        "\n",
        "C = float(input(\"Digite a temperatura em Celsius: \"))\n",
        "\n",
        "F = 9 *C / 5 + 32\n",
        "\n",
        "print(\"A temperatura em Fahrenheit é\", F)\n"
      ],
      "execution_count": 13,
      "outputs": [
        {
          "output_type": "stream",
          "text": [
            "Digite a temperatura em Celsius: 35.6\n",
            "A temperatura em Fahrenheit é 96.08000000000001\n"
          ],
          "name": "stdout"
        }
      ]
    },
    {
      "cell_type": "code",
      "metadata": {
        "colab": {
          "base_uri": "https://localhost:8080/"
        },
        "id": "m_TRpWWB9NLU",
        "outputId": "bbaef5ad-814c-4dc7-b2c8-f2c92cc72d58"
      },
      "source": [
        "nota1 = float(input(\"Nota 1: \"))\n",
        "peso1 = 1\n",
        "nota2 = float(input(\"Nota 2: \"))\n",
        "peso2 = 2\n",
        " \n",
        "#caLculo média\n",
        " \n",
        "MEDIA = (nota1*peso1 + nota2*peso2)/(peso1 +peso2)\n",
        "print(\"A média é: \", MEDIA)\n",
        "\n"
      ],
      "execution_count": 1,
      "outputs": [
        {
          "output_type": "stream",
          "text": [
            "Nota 1: 6\n",
            "Nota 2: 9\n",
            "A média é:  8.0\n"
          ],
          "name": "stdout"
        }
      ]
    },
    {
      "cell_type": "code",
      "metadata": {
        "colab": {
          "base_uri": "https://localhost:8080/"
        },
        "id": "QJ2tAjfQMseg",
        "outputId": "2e9a622d-2665-4b24-a445-985841e9f001"
      },
      "source": [
        "#6. Faça um programa que receba o salário de um funcionário, reajuste o\n",
        "#salário em 25% e apresente na tela:\n",
        "# - o valor do reajuste\n",
        "#- o valor do novo salário após o reajuste\n",
        "\n",
        "SAL = float(input(\"Digite o salário: \"))\n",
        "reajuste = SAL + (SAL * 25/100)\n",
        "\n",
        "print(\"O valor do novo salário é: \", reajuste)"
      ],
      "execution_count": 26,
      "outputs": [
        {
          "output_type": "stream",
          "text": [
            "Digite o salário: 800\n",
            "O valor do novo salário é:  1000.0\n"
          ],
          "name": "stdout"
        }
      ]
    },
    {
      "cell_type": "code",
      "metadata": {
        "colab": {
          "base_uri": "https://localhost:8080/"
        },
        "id": "U8CqW0AYBqN5",
        "outputId": "95feab2e-eb7f-4871-dbae-8614ed7f9442"
      },
      "source": [
        "#3. Faça um programa que leia do usuário um número e escreva o seu\n",
        "#sucessor e o seu antecessor.\n",
        "\n",
        "n = int(input(\"Digite um número: \"))\n",
        "ant = n-1\n",
        "suc = n+1\n",
        "\n",
        "print(\"O antecessor é: \", ant)\n",
        "print(\"O sucessor é: \", suc)"
      ],
      "execution_count": 19,
      "outputs": [
        {
          "output_type": "stream",
          "text": [
            "Digite um número: 7\n",
            "O antecessor é:  6\n",
            "O sucessor é:  8\n"
          ],
          "name": "stdout"
        }
      ]
    },
    {
      "cell_type": "code",
      "metadata": {
        "colab": {
          "base_uri": "https://localhost:8080/",
          "height": 131
        },
        "id": "5VgddKBWDLNC",
        "outputId": "e7d97f34-c875-4e5c-b407-2068595aa19c"
      },
      "source": [
        "#2. Faça um programa em Python que leia do usuário dois números. Faça a\n",
        "#multiplicação dos dois números e mostre o resultado.\n",
        "\n",
        "N1 = int(input((\"Digite o primeiro número: \"))\n",
        "N2 = int(input((\"Digite o segundo número: \"))\n",
        "\n",
        "mult = N1 * N2\n",
        "\n",
        "print(\"A multiplicação dos dois números é: \", mult)"
      ],
      "execution_count": 21,
      "outputs": [
        {
          "output_type": "error",
          "ename": "SyntaxError",
          "evalue": "ignored",
          "traceback": [
            "\u001b[0;36m  File \u001b[0;32m\"<ipython-input-21-0e8e1cc1aa6c>\"\u001b[0;36m, line \u001b[0;32m5\u001b[0m\n\u001b[0;31m    N2 = int(input((\"Digite o segundo número: \"))\u001b[0m\n\u001b[0m     ^\u001b[0m\n\u001b[0;31mSyntaxError\u001b[0m\u001b[0;31m:\u001b[0m invalid syntax\n"
          ]
        }
      ]
    }
  ]
}